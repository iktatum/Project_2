{
 "cells": [
  {
   "cell_type": "code",
   "execution_count": 2,
   "metadata": {},
   "outputs": [],
   "source": [
    "#import libraries\n",
    "from pathlib import Path\n",
    "import pandas as pd\n",
    "import numpy as np\n",
    "from numpy.random import seed\n",
    "seed(1)\n",
    "from tensorflow import random\n",
    "random.set_seed(2)"
   ]
  },
  {
   "cell_type": "code",
   "execution_count": 4,
   "metadata": {},
   "outputs": [
    {
     "data": {
      "text/html": [
       "<div>\n",
       "<style scoped>\n",
       "    .dataframe tbody tr th:only-of-type {\n",
       "        vertical-align: middle;\n",
       "    }\n",
       "\n",
       "    .dataframe tbody tr th {\n",
       "        vertical-align: top;\n",
       "    }\n",
       "\n",
       "    .dataframe thead th {\n",
       "        text-align: right;\n",
       "    }\n",
       "</style>\n",
       "<table border=\"1\" class=\"dataframe\">\n",
       "  <thead>\n",
       "    <tr style=\"text-align: right;\">\n",
       "      <th></th>\n",
       "      <th>Volume</th>\n",
       "      <th>Close</th>\n",
       "    </tr>\n",
       "    <tr>\n",
       "      <th>Date</th>\n",
       "      <th></th>\n",
       "      <th></th>\n",
       "    </tr>\n",
       "  </thead>\n",
       "  <tbody>\n",
       "    <tr>\n",
       "      <th>7/16/2020</th>\n",
       "      <td>1.032080e+11</td>\n",
       "      <td>9525.363281</td>\n",
       "    </tr>\n",
       "    <tr>\n",
       "      <th>7/23/2020</th>\n",
       "      <td>1.605610e+11</td>\n",
       "      <td>11100.467770</td>\n",
       "    </tr>\n",
       "    <tr>\n",
       "      <th>7/30/2020</th>\n",
       "      <td>1.441860e+11</td>\n",
       "      <td>11747.022460</td>\n",
       "    </tr>\n",
       "    <tr>\n",
       "      <th>8/6/2020</th>\n",
       "      <td>1.598130e+11</td>\n",
       "      <td>11584.934570</td>\n",
       "    </tr>\n",
       "    <tr>\n",
       "      <th>8/13/2020</th>\n",
       "      <td>5.176016e+10</td>\n",
       "      <td>11768.871090</td>\n",
       "    </tr>\n",
       "  </tbody>\n",
       "</table>\n",
       "</div>"
      ],
      "text/plain": [
       "                 Volume         Close\n",
       "Date                                 \n",
       "7/16/2020  1.032080e+11   9525.363281\n",
       "7/23/2020  1.605610e+11  11100.467770\n",
       "7/30/2020  1.441860e+11  11747.022460\n",
       "8/6/2020   1.598130e+11  11584.934570\n",
       "8/13/2020  5.176016e+10  11768.871090"
      ]
     },
     "execution_count": 4,
     "metadata": {},
     "output_type": "execute_result"
    }
   ],
   "source": [
    "#import bitcoin stock data \n",
    "csvpath = Path(\"BTC-USD.csv\", parse_dates = True, infer_datetime_format = True,index_col=\"Date\")\n",
    "df = pd.read_csv(csvpath) \n",
    "df= df.drop(columns=[\"Open\", \"High\",\"Low\",\"Adj Close\"])\n",
    "df=df.set_index('Date')\n",
    "df=df[['Volume','Close']]\n",
    "df.tail()"
   ]
  },
  {
   "cell_type": "markdown",
   "metadata": {},
   "source": [
    "data prep model LSTM RNN"
   ]
  },
  {
   "cell_type": "code",
   "execution_count": 43,
   "metadata": {},
   "outputs": [
    {
     "data": {
      "text/html": [
       "<div>\n",
       "<style scoped>\n",
       "    .dataframe tbody tr th:only-of-type {\n",
       "        vertical-align: middle;\n",
       "    }\n",
       "\n",
       "    .dataframe tbody tr th {\n",
       "        vertical-align: top;\n",
       "    }\n",
       "\n",
       "    .dataframe thead th {\n",
       "        text-align: right;\n",
       "    }\n",
       "</style>\n",
       "<table border=\"1\" class=\"dataframe\">\n",
       "  <thead>\n",
       "    <tr style=\"text-align: right;\">\n",
       "      <th></th>\n",
       "      <th>Volume</th>\n",
       "      <th>Close</th>\n",
       "    </tr>\n",
       "  </thead>\n",
       "  <tbody>\n",
       "    <tr>\n",
       "      <th>count</th>\n",
       "      <td>2.940000e+02</td>\n",
       "      <td>294.000000</td>\n",
       "    </tr>\n",
       "    <tr>\n",
       "      <th>mean</th>\n",
       "      <td>5.608520e+10</td>\n",
       "      <td>4533.375081</td>\n",
       "    </tr>\n",
       "    <tr>\n",
       "      <th>std</th>\n",
       "      <td>7.986513e+10</td>\n",
       "      <td>4097.025769</td>\n",
       "    </tr>\n",
       "    <tr>\n",
       "      <th>min</th>\n",
       "      <td>1.094887e+08</td>\n",
       "      <td>178.102997</td>\n",
       "    </tr>\n",
       "    <tr>\n",
       "      <th>25%</th>\n",
       "      <td>4.969574e+08</td>\n",
       "      <td>544.278732</td>\n",
       "    </tr>\n",
       "    <tr>\n",
       "      <th>50%</th>\n",
       "      <td>1.828617e+10</td>\n",
       "      <td>3893.266358</td>\n",
       "    </tr>\n",
       "    <tr>\n",
       "      <th>75%</th>\n",
       "      <td>9.982654e+10</td>\n",
       "      <td>8009.071044</td>\n",
       "    </tr>\n",
       "    <tr>\n",
       "      <th>max</th>\n",
       "      <td>3.676060e+11</td>\n",
       "      <td>16624.599610</td>\n",
       "    </tr>\n",
       "  </tbody>\n",
       "</table>\n",
       "</div>"
      ],
      "text/plain": [
       "             Volume         Close\n",
       "count  2.940000e+02    294.000000\n",
       "mean   5.608520e+10   4533.375081\n",
       "std    7.986513e+10   4097.025769\n",
       "min    1.094887e+08    178.102997\n",
       "25%    4.969574e+08    544.278732\n",
       "50%    1.828617e+10   3893.266358\n",
       "75%    9.982654e+10   8009.071044\n",
       "max    3.676060e+11  16624.599610"
      ]
     },
     "execution_count": 43,
     "metadata": {},
     "output_type": "execute_result"
    }
   ],
   "source": [
    "#describe the data\n",
    "df.describe()"
   ]
  },
  {
   "cell_type": "code",
   "execution_count": 28,
   "metadata": {},
   "outputs": [],
   "source": [
    "#function to fill arrays with data\n",
    "def window_data(df, window, feature_col_number, target_col_number):\n",
    "    X = []\n",
    "    y = []\n",
    "    for i in range(len(df) - window -1):\n",
    "        features = df.iloc[i:(i + window), feature_col_number]\n",
    "        target = df.iloc[(i + window), target_col_number]\n",
    "        X.append(features)\n",
    "        y.append(target)\n",
    "    return np.array(X), np.array(y).reshape(-1, 1)"
   ]
  },
  {
   "cell_type": "code",
   "execution_count": 33,
   "metadata": {},
   "outputs": [],
   "source": [
    "#predict closing prices, used a window= 1, other options 5&10 day window of close/open prices\n",
    "window_size = 1\n",
    "feature_column = 1\n",
    "target_column = 1\n",
    "X, y = window_data(df, window_size, feature_column, target_column)\n"
   ]
  },
  {
   "cell_type": "code",
   "execution_count": 34,
   "metadata": {},
   "outputs": [],
   "source": [
    "#split data 70%/30% of data for training\n",
    "split = int(.7*len(X))\n",
    "X_train = X[: split ]\n",
    "X_test = X[split:]\n",
    "y_train = y[: split ]\n",
    "y_test = y[split:]"
   ]
  },
  {
   "cell_type": "code",
   "execution_count": 35,
   "metadata": {},
   "outputs": [
    {
     "data": {
      "text/plain": [
       "(204, 1)"
      ]
     },
     "execution_count": 35,
     "metadata": {},
     "output_type": "execute_result"
    }
   ],
   "source": [
    "X_train.shape"
   ]
  },
  {
   "cell_type": "code",
   "execution_count": 36,
   "metadata": {},
   "outputs": [
    {
     "data": {
      "text/plain": [
       "(88, 1)"
      ]
     },
     "execution_count": 36,
     "metadata": {},
     "output_type": "execute_result"
    }
   ],
   "source": [
    "X_test.shape"
   ]
  },
  {
   "cell_type": "code",
   "execution_count": 37,
   "metadata": {},
   "outputs": [],
   "source": [
    "# Use MinMaxScaler to scale the data between 0 and 1. \n",
    "from sklearn.preprocessing import MinMaxScaler\n",
    "scaler = MinMaxScaler()\n",
    "scaler.fit(X)\n",
    "X_train = scaler.transform(X_train)\n",
    "X_test = scaler.transform(X_test)\n",
    "scaler.fit(y)\n",
    "y_train = scaler.transform(y_train)\n",
    "y_test = scaler.transform(y_test)"
   ]
  },
  {
   "cell_type": "code",
   "execution_count": 38,
   "metadata": {},
   "outputs": [
    {
     "name": "stdout",
     "output_type": "stream",
     "text": [
      "X_train sample [[[0.0070674 ]]\n",
      "\n",
      " [[0.        ]]\n",
      "\n",
      " [[0.00296683]]]\n",
      "X_test sample [[[0.0070674 ]]\n",
      "\n",
      " [[0.        ]]\n",
      "\n",
      " [[0.00296683]]]\n"
     ]
    }
   ],
   "source": [
    "# Reshape the features for the model\n",
    "X_train = X_train.reshape(X_train.shape[0], X_train.shape[1], 1)\n",
    "X_test = X_test.reshape(X_test.shape[0], X_test.shape[1], 1)\n",
    "print (f\"X_train sample {X_train[:3]}\")\n",
    "print (f\"X_test sample {X_train[:3]}\")"
   ]
  },
  {
   "cell_type": "code",
   "execution_count": 39,
   "metadata": {},
   "outputs": [],
   "source": [
    "#build and train LSTM RNN\n",
    "\n",
    "from tensorflow.keras.models import Sequential\n",
    "from tensorflow.keras.layers import LSTM, Dense, Dropout"
   ]
  },
  {
   "cell_type": "code",
   "execution_count": 40,
   "metadata": {},
   "outputs": [],
   "source": [
    "## Build the LSTM model\n",
    "model = Sequential()\n",
    "number_units = 5\n",
    "dropout_fraction = .2\n",
    "#1\n",
    "model.add(LSTM(units= number_units, return_sequences=True, input_shape=(X_train.shape[1], 1)))\n",
    "model.add(Dropout(dropout_fraction))\n",
    "#2\n",
    "model.add(LSTM(units = number_units, return_sequences= True))\n",
    "model.add(Dropout(dropout_fraction))\n",
    "#3\n",
    "model.add(LSTM(units= number_units))\n",
    "model.add(Dropout(dropout_fraction))\n",
    "#outer\n",
    "model.add(Dense(1))"
   ]
  },
  {
   "cell_type": "code",
   "execution_count": 41,
   "metadata": {},
   "outputs": [],
   "source": [
    "#compile\n",
    "model.compile(optimizer=\"adam\", loss=\"mean_squared_error\")"
   ]
  },
  {
   "cell_type": "code",
   "execution_count": 42,
   "metadata": {},
   "outputs": [
    {
     "name": "stdout",
     "output_type": "stream",
     "text": [
      "Model: \"sequential\"\n",
      "_________________________________________________________________\n",
      "Layer (type)                 Output Shape              Param #   \n",
      "=================================================================\n",
      "lstm (LSTM)                  (None, 1, 5)              140       \n",
      "_________________________________________________________________\n",
      "dropout (Dropout)            (None, 1, 5)              0         \n",
      "_________________________________________________________________\n",
      "lstm_1 (LSTM)                (None, 1, 5)              220       \n",
      "_________________________________________________________________\n",
      "dropout_1 (Dropout)          (None, 1, 5)              0         \n",
      "_________________________________________________________________\n",
      "lstm_2 (LSTM)                (None, 5)                 220       \n",
      "_________________________________________________________________\n",
      "dropout_2 (Dropout)          (None, 5)                 0         \n",
      "_________________________________________________________________\n",
      "dense (Dense)                (None, 1)                 6         \n",
      "=================================================================\n",
      "Total params: 586\n",
      "Trainable params: 586\n",
      "Non-trainable params: 0\n",
      "_________________________________________________________________\n"
     ]
    }
   ],
   "source": [
    "#summary\n",
    "model.summary()"
   ]
  },
  {
   "cell_type": "code",
   "execution_count": 25,
   "metadata": {},
   "outputs": [
    {
     "name": "stdout",
     "output_type": "stream",
     "text": [
      "Epoch 1/50\n",
      "204/204 [==============================] - 1s 3ms/step - loss: 0.0274\n",
      "Epoch 2/50\n",
      "204/204 [==============================] - 1s 3ms/step - loss: 0.0653\n",
      "Epoch 3/50\n",
      "204/204 [==============================] - 1s 3ms/step - loss: 0.0580\n",
      "Epoch 4/50\n",
      "204/204 [==============================] - 1s 3ms/step - loss: 0.0537\n",
      "Epoch 5/50\n",
      "204/204 [==============================] - 1s 3ms/step - loss: 0.0443\n",
      "Epoch 6/50\n",
      "204/204 [==============================] - 1s 3ms/step - loss: 0.0274\n",
      "Epoch 7/50\n",
      "204/204 [==============================] - 1s 4ms/step - loss: 0.0133\n",
      "Epoch 8/50\n",
      "204/204 [==============================] - 1s 3ms/step - loss: 0.0139\n",
      "Epoch 9/50\n",
      "204/204 [==============================] - 1s 4ms/step - loss: 0.0101\n",
      "Epoch 10/50\n",
      "204/204 [==============================] - 1s 4ms/step - loss: 0.0096\n",
      "Epoch 11/50\n",
      "204/204 [==============================] - 1s 5ms/step - loss: 0.0105\n",
      "Epoch 12/50\n",
      "204/204 [==============================] - 1s 4ms/step - loss: 0.0130\n",
      "Epoch 13/50\n",
      "204/204 [==============================] - 1s 4ms/step - loss: 0.0091\n",
      "Epoch 14/50\n",
      "204/204 [==============================] - 1s 3ms/step - loss: 0.0081\n",
      "Epoch 15/50\n",
      "204/204 [==============================] - 1s 3ms/step - loss: 0.0078\n",
      "Epoch 16/50\n",
      "204/204 [==============================] - 1s 3ms/step - loss: 0.0075\n",
      "Epoch 17/50\n",
      "204/204 [==============================] - 1s 4ms/step - loss: 0.0077\n",
      "Epoch 18/50\n",
      "204/204 [==============================] - 1s 3ms/step - loss: 0.0094\n",
      "Epoch 19/50\n",
      "204/204 [==============================] - 1s 3ms/step - loss: 0.0082\n",
      "Epoch 20/50\n",
      "204/204 [==============================] - 1s 3ms/step - loss: 0.0084\n",
      "Epoch 21/50\n",
      "204/204 [==============================] - 1s 3ms/step - loss: 0.0083\n",
      "Epoch 22/50\n",
      "204/204 [==============================] - 1s 3ms/step - loss: 0.0093\n",
      "Epoch 23/50\n",
      "204/204 [==============================] - 1s 3ms/step - loss: 0.0090\n",
      "Epoch 24/50\n",
      "204/204 [==============================] - 1s 3ms/step - loss: 0.0098\n",
      "Epoch 25/50\n",
      "204/204 [==============================] - 1s 3ms/step - loss: 0.0083\n",
      "Epoch 26/50\n",
      "204/204 [==============================] - 1s 3ms/step - loss: 0.0089\n",
      "Epoch 27/50\n",
      "204/204 [==============================] - 1s 3ms/step - loss: 0.0119\n",
      "Epoch 28/50\n",
      "204/204 [==============================] - 1s 3ms/step - loss: 0.0083\n",
      "Epoch 29/50\n",
      "204/204 [==============================] - 1s 3ms/step - loss: 0.0104\n",
      "Epoch 30/50\n",
      "204/204 [==============================] - 1s 3ms/step - loss: 0.0110\n",
      "Epoch 31/50\n",
      "204/204 [==============================] - 1s 3ms/step - loss: 0.0093\n",
      "Epoch 32/50\n",
      "204/204 [==============================] - 1s 3ms/step - loss: 0.0079\n",
      "Epoch 33/50\n",
      "204/204 [==============================] - 1s 3ms/step - loss: 0.0093\n",
      "Epoch 34/50\n",
      "204/204 [==============================] - 1s 3ms/step - loss: 0.0076\n",
      "Epoch 35/50\n",
      "204/204 [==============================] - 1s 3ms/step - loss: 0.0093\n",
      "Epoch 36/50\n",
      "204/204 [==============================] - 1s 3ms/step - loss: 0.0085\n",
      "Epoch 37/50\n",
      "204/204 [==============================] - 1s 3ms/step - loss: 0.0074\n",
      "Epoch 38/50\n",
      "204/204 [==============================] - 1s 3ms/step - loss: 0.0076\n",
      "Epoch 39/50\n",
      "204/204 [==============================] - 1s 3ms/step - loss: 0.0080\n",
      "Epoch 40/50\n",
      "204/204 [==============================] - 1s 4ms/step - loss: 0.0088\n",
      "Epoch 41/50\n",
      "204/204 [==============================] - 1s 3ms/step - loss: 0.0105\n",
      "Epoch 42/50\n",
      "204/204 [==============================] - 1s 3ms/step - loss: 0.0080\n",
      "Epoch 43/50\n",
      "204/204 [==============================] - 1s 3ms/step - loss: 0.0071\n",
      "Epoch 44/50\n",
      "204/204 [==============================] - 1s 3ms/step - loss: 0.0100\n",
      "Epoch 45/50\n",
      "204/204 [==============================] - 1s 3ms/step - loss: 0.0087\n",
      "Epoch 46/50\n",
      "204/204 [==============================] - 1s 3ms/step - loss: 0.0089\n",
      "Epoch 47/50\n",
      "204/204 [==============================] - 1s 3ms/step - loss: 0.0091\n",
      "Epoch 48/50\n",
      "204/204 [==============================] - 1s 3ms/step - loss: 0.0082\n",
      "Epoch 49/50\n",
      "204/204 [==============================] - 1s 3ms/step - loss: 0.0092\n",
      "Epoch 50/50\n",
      "204/204 [==============================] - 1s 3ms/step - loss: 0.0084\n"
     ]
    },
    {
     "data": {
      "text/plain": [
       "<tensorflow.python.keras.callbacks.History at 0x1d3c5229fc8>"
      ]
     },
     "execution_count": 25,
     "metadata": {},
     "output_type": "execute_result"
    }
   ],
   "source": [
    "#train the model, epochs= 50, \n",
    "model.fit(X_train, y_train, epochs = 50, shuffle = False, batch_size=1, verbose = 1)"
   ]
  },
  {
   "cell_type": "code",
   "execution_count": 26,
   "metadata": {},
   "outputs": [
    {
     "name": "stdout",
     "output_type": "stream",
     "text": [
      "3/3 [==============================] - 0s 2ms/step - loss: 0.0036\n"
     ]
    },
    {
     "data": {
      "text/plain": [
       "0.00363424071110785"
      ]
     },
     "execution_count": 26,
     "metadata": {},
     "output_type": "execute_result"
    }
   ],
   "source": [
    "#evaluate\n",
    "model.evaluate(X_test, y_test)"
   ]
  },
  {
   "cell_type": "code",
   "execution_count": 27,
   "metadata": {},
   "outputs": [],
   "source": [
    "#predictions\n",
    "predicted = model.predict(X_test)\n"
   ]
  },
  {
   "cell_type": "code",
   "execution_count": 28,
   "metadata": {},
   "outputs": [],
   "source": [
    "# Recover the original prices instead of the scaled version\n",
    "predicted_prices = scaler.inverse_transform(predicted)\n",
    "real_prices = scaler.inverse_transform(y_test.reshape(-1, 1))"
   ]
  },
  {
   "cell_type": "code",
   "execution_count": 29,
   "metadata": {},
   "outputs": [
    {
     "data": {
      "text/html": [
       "<div>\n",
       "<style scoped>\n",
       "    .dataframe tbody tr th:only-of-type {\n",
       "        vertical-align: middle;\n",
       "    }\n",
       "\n",
       "    .dataframe tbody tr th {\n",
       "        vertical-align: top;\n",
       "    }\n",
       "\n",
       "    .dataframe thead th {\n",
       "        text-align: right;\n",
       "    }\n",
       "</style>\n",
       "<table border=\"1\" class=\"dataframe\">\n",
       "  <thead>\n",
       "    <tr style=\"text-align: right;\">\n",
       "      <th></th>\n",
       "      <th>Real</th>\n",
       "      <th>Predicted</th>\n",
       "    </tr>\n",
       "  </thead>\n",
       "  <tbody>\n",
       "    <tr>\n",
       "      <th>0</th>\n",
       "      <td>3486.950195</td>\n",
       "      <td>3886.152832</td>\n",
       "    </tr>\n",
       "    <tr>\n",
       "      <th>1</th>\n",
       "      <td>3745.950684</td>\n",
       "      <td>3691.412598</td>\n",
       "    </tr>\n",
       "    <tr>\n",
       "      <th>2</th>\n",
       "      <td>3857.297607</td>\n",
       "      <td>3880.193604</td>\n",
       "    </tr>\n",
       "    <tr>\n",
       "      <th>3</th>\n",
       "      <td>3943.409424</td>\n",
       "      <td>3963.186523</td>\n",
       "    </tr>\n",
       "    <tr>\n",
       "      <th>4</th>\n",
       "      <td>4035.296387</td>\n",
       "      <td>4028.113525</td>\n",
       "    </tr>\n",
       "  </tbody>\n",
       "</table>\n",
       "</div>"
      ],
      "text/plain": [
       "          Real    Predicted\n",
       "0  3486.950195  3886.152832\n",
       "1  3745.950684  3691.412598\n",
       "2  3857.297607  3880.193604\n",
       "3  3943.409424  3963.186523\n",
       "4  4035.296387  4028.113525"
      ]
     },
     "execution_count": 29,
     "metadata": {},
     "output_type": "execute_result"
    }
   ],
   "source": [
    "# Create a DataFrame of Real and Predicted values\n",
    "stocks = pd.DataFrame({\n",
    "    \"Real\": real_prices.ravel(),\n",
    "    \"Predicted\": predicted_prices.ravel()\n",
    "})\n",
    "stocks.head()"
   ]
  },
  {
   "cell_type": "code",
   "execution_count": 30,
   "metadata": {},
   "outputs": [
    {
     "data": {
      "text/plain": [
       "<matplotlib.axes._subplots.AxesSubplot at 0x1d3cf7ddd48>"
      ]
     },
     "execution_count": 30,
     "metadata": {},
     "output_type": "execute_result"
    },
    {
     "data": {
      "image/png": "[encoded data removed]",
      "text/plain": [
       "<Figure size 432x288 with 1 Axes>"
      ]
     },
     "metadata": {
      "needs_background": "light"
     },
     "output_type": "display_data"
    }
   ],
   "source": [
    "# Plot the real vs predicted values as a line chart\n",
    "stocks.plot()"
   ]
  },
  {
   "cell_type": "code",
   "execution_count": 31,
   "metadata": {},
   "outputs": [
    {
     "data": {
      "text/plain": [
       "<matplotlib.axes._subplots.AxesSubplot at 0x1d3cffb5108>"
      ]
     },
     "execution_count": 31,
     "metadata": {},
     "output_type": "execute_result"
    },
    {
     "data": {
      "image/png": "[encoded data removed]",
      "text/plain": [
       "<Figure size 432x288 with 1 Axes>"
      ]
     },
     "metadata": {
      "needs_background": "light"
     },
     "output_type": "display_data"
    }
   ],
   "source": [
    "df['Volume'].plot()"
   ]
  },
  {
   "cell_type": "code",
   "execution_count": 32,
   "metadata": {},
   "outputs": [
    {
     "data": {
      "text/plain": [
       "<matplotlib.axes._subplots.AxesSubplot at 0x1d3d009bbc8>"
      ]
     },
     "execution_count": 32,
     "metadata": {},
     "output_type": "execute_result"
    },
    {
     "data": {
      "image/png": "[encoded data removed]",
      "text/plain": [
       "<Figure size 432x288 with 1 Axes>"
      ]
     },
     "metadata": {
      "needs_background": "light"
     },
     "output_type": "display_data"
    }
   ],
   "source": [
    " df['Close'].plot()"
   ]
  },
  {
   "cell_type": "code",
   "execution_count": null,
   "metadata": {},
   "outputs": [],
   "source": []
  },
  {
   "cell_type": "code",
   "execution_count": null,
   "metadata": {},
   "outputs": [],
   "source": []
  }
 ],
 "metadata": {
  "kernelspec": {
   "display_name": "Python 3",
   "language": "python",
   "name": "python3"
  },
  "language_info": {
   "codemirror_mode": {
    "name": "ipython",
    "version": 3
   },
   "file_extension": ".py",
   "mimetype": "text/x-python",
   "name": "python",
   "nbconvert_exporter": "python",
   "pygments_lexer": "ipython3",
   "version": "3.7.7"
  }
 },
 "nbformat": 4,
 "nbformat_minor": 4
}
