{
 "cells": [
  {
   "cell_type": "markdown",
   "metadata": {},
   "source": [
    " # Dual Moving Average Crossover Trading Signal"
   ]
  },
  {
   "cell_type": "markdown",
   "metadata": {},
   "source": [
    " ---"
   ]
  },
  {
   "cell_type": "markdown",
   "metadata": {},
   "source": [
    " ### Import Libraries and Dependencies"
   ]
  },
  {
   "cell_type": "code",
   "execution_count": 4,
   "metadata": {},
   "outputs": [
    {
     "ename": "ModuleNotFoundError",
     "evalue": "No module named 'hvplot'",
     "output_type": "error",
     "traceback": [
      "\u001b[1;31m---------------------------------------------------------------------------\u001b[0m",
      "\u001b[1;31mModuleNotFoundError\u001b[0m                       Traceback (most recent call last)",
      "\u001b[1;32m<ipython-input-4-ad982b2e518f>\u001b[0m in \u001b[0;36m<module>\u001b[1;34m\u001b[0m\n\u001b[0;32m      2\u001b[0m \u001b[1;32mimport\u001b[0m \u001b[0mnumpy\u001b[0m \u001b[1;32mas\u001b[0m \u001b[0mnp\u001b[0m\u001b[1;33m\u001b[0m\u001b[1;33m\u001b[0m\u001b[0m\n\u001b[0;32m      3\u001b[0m \u001b[1;32mimport\u001b[0m \u001b[0mpandas\u001b[0m \u001b[1;32mas\u001b[0m \u001b[0mpd\u001b[0m\u001b[1;33m\u001b[0m\u001b[1;33m\u001b[0m\u001b[0m\n\u001b[1;32m----> 4\u001b[1;33m \u001b[1;32mimport\u001b[0m \u001b[0mhvplot\u001b[0m\u001b[1;33m.\u001b[0m\u001b[0mpandas\u001b[0m\u001b[1;33m\u001b[0m\u001b[1;33m\u001b[0m\u001b[0m\n\u001b[0m\u001b[0;32m      5\u001b[0m \u001b[1;32mimport\u001b[0m \u001b[0mplotly\u001b[0m\u001b[1;33m.\u001b[0m\u001b[0mexpress\u001b[0m \u001b[1;32mas\u001b[0m \u001b[0mpx\u001b[0m\u001b[1;33m\u001b[0m\u001b[1;33m\u001b[0m\u001b[0m\n\u001b[0;32m      6\u001b[0m \u001b[1;32mfrom\u001b[0m \u001b[0mpathlib\u001b[0m \u001b[1;32mimport\u001b[0m \u001b[0mPath\u001b[0m\u001b[1;33m\u001b[0m\u001b[1;33m\u001b[0m\u001b[0m\n",
      "\u001b[1;31mModuleNotFoundError\u001b[0m: No module named 'hvplot'"
     ]
    }
   ],
   "source": [
    "# Import libraries and dependencies\n",
    "import numpy as np\n",
    "import pandas as pd\n",
    "import hvplot.pandas\n",
    "import plotly.express as px\n",
    "from pathlib import Path\n",
    "%matplotlib inline"
   ]
  },
  {
   "cell_type": "markdown",
   "metadata": {},
   "source": [
    " ### Read CSV into Pandas DataFrame"
   ]
  },
  {
   "cell_type": "code",
   "execution_count": null,
   "metadata": {},
   "outputs": [],
   "source": [
    "# Set the file path\n",
    "filepath = Path(\"../Project_2/BTC.csv\")\n",
    "\n",
    "# Read the CSV located at the file path into a Pandas DataFrame\n",
    "# Set the `Date` column as the index and auto-format the datetime string\n",
    "btc_df = pd.read_csv(filepath, parse_dates=True, infer_datetime_format=True)\n",
    "\n",
    "# Print the DataFrame\n",
    "btc_df.tail()"
   ]
  },
  {
   "cell_type": "markdown",
   "metadata": {},
   "source": [
    " ### Generate a Dual Moving Average Crossover Trading Signal"
   ]
  },
  {
   "cell_type": "code",
   "execution_count": null,
   "metadata": {},
   "outputs": [],
   "source": [
    "# Grab just the `date` and `close` from the dataset\n",
    "signals_df = btc_df.loc[:, [\"Date\", \"Close\", \"Volume\"]].copy()\n",
    "\n",
    "# Set the short window and long windows for BTC \n",
    "short_window = 13\n",
    "long_window = 26\n",
    "\n",
    "# Set the `date` column as the index\n",
    "signals_df = signals_df.set_index(\"Date\", drop=True)\n",
    "\n",
    "# Generate the short and long moving averages (13 and 26 days, respectively)\n",
    "\n",
    "signals_df[\"SMA13\"] = signals_df[\"Close\"].ewm(halflife=short_window).mean()\n",
    "signals_df[\"SMA26\"] = signals_df[\"Close\"].ewm(halflife=long_window).mean()\n",
    "signals_df[\"Signal\"] = 0.0\n",
    "\n",
    "# Generate the trading signal 0 or 1,\n",
    "# where 0 is when the SMA13 is under the SMA26, and\n",
    "# where 1 is when the SMA26 is higher (or crosses over) the SM13\n",
    "signals_df[\"Signal\"][short_window:] = np.where(\n",
    "    signals_df[\"SMA13\"][short_window:] > signals_df[\"SMA26\"][short_window:], 1.0, 0.0)\n",
    "\n",
    "# Calculate the points in time at which a position should be taken, 1 or -1\n",
    "signals_df[\"Entry/Exit\"] = signals_df[\"Signal\"].diff()\n",
    "\n",
    "signals_df.describe()"
   ]
  },
  {
   "cell_type": "markdown",
   "metadata": {},
   "source": [
    " ### Plot Entry and Exit Points of Dual Moving Average Crossover Trading Strategy"
   ]
  },
  {
   "cell_type": "code",
   "execution_count": null,
   "metadata": {},
   "outputs": [],
   "source": [
    "# Visualize exit position relative to close price\n",
    "exit = signals_df[signals_df['Entry/Exit'] == -1.0]['Close'].hvplot.scatter(\n",
    "    color='red',\n",
    "    marker='v',\n",
    "    size=200,\n",
    "    legend=False,\n",
    "    ylabel='Price in $',\n",
    "    width=1000,\n",
    "    height=400\n",
    ")\n",
    "\n",
    "# Visualize entry position relative to close price\n",
    "entry = signals_df[signals_df['Entry/Exit'] == 1.0]['Close'].hvplot.scatter(\n",
    "    color='green',\n",
    "    marker='^',\n",
    "    size=200,\n",
    "    legend=False,\n",
    "    ylabel='Price in $',\n",
    "    width=1000,\n",
    "    height=400\n",
    ")\n",
    "\n",
    "# Visualize close price for the investment\n",
    "security_close = signals_df[['Close']].hvplot(\n",
    "    line_color='lightgray',\n",
    "    ylabel='Price in $',\n",
    "    width=1000,\n",
    "    height=400\n",
    ")\n",
    "\n",
    "# Visualize moving averages\n",
    "moving_avgs = signals_df[['SMA13', 'SMA26']].hvplot(\n",
    "    ylabel='Price in $',\n",
    "    width=1000,\n",
    "    height=400\n",
    ")\n",
    "\n",
    "# Overlay plots to Visualize the entry and exit points at the 13-daya nd 26\n",
    "entry_exit_plot = security_close * moving_avgs * entry * exit\n",
    "entry_exit_plot.opts(xaxis=None)"
   ]
  },
  {
   "cell_type": "code",
   "execution_count": null,
   "metadata": {},
   "outputs": [],
   "source": [
    "# Set the share size. One thousand shares and $1,000,000 investment \n",
    "\n",
    "share_size = 50\n",
    "initial_capital = 1000000\n",
    "\n",
    "# Take a 1000 share position where the dual moving average crossover is 1 (SMA50 is greater than SMA100)\n",
    "signals_df['Position'] = share_size * signals_df['Signal']\n",
    "\n",
    "# Find the points in time where a 1000 share position is bought or sold\n",
    "signals_df['Entry/Exit Position'] = signals_df['Position'].diff()\n",
    "\n",
    "# Multiply share price by entry/exit positions and get the cumulatively sum\n",
    "signals_df['Portfolio Holdings'] = signals_df['Close'] * signals_df['Entry/Exit Position'].cumsum()\n",
    "\n",
    "# Subtract the initial capital by the portfolio holdings to get the amount of liquid cash in the portfolio\n",
    "signals_df['Portfolio Cash'] = initial_capital - (signals_df['Close'] * signals_df['Entry/Exit Position']).cumsum()\n",
    "\n",
    "# Get the total portfolio value by adding the cash amount by the portfolio holdings (or investments)\n",
    "signals_df['Portfolio Total'] = signals_df['Portfolio Cash'] + signals_df['Portfolio Holdings']\n",
    "\n",
    "# Calculate the portfolio daily returns\n",
    "signals_df['Portfolio Daily Returns'] = signals_df['Portfolio Total'].pct_change()\n",
    "\n",
    "# Calculate the cumulative returns\n",
    "signals_df['Portfolio Cumulative Returns'] = (1 + signals_df['Portfolio Daily Returns']).cumprod() - 1\n",
    "\n",
    "# Print the DataFrame\n",
    "signals_df.head(10)"
   ]
  },
  {
   "cell_type": "code",
   "execution_count": null,
   "metadata": {},
   "outputs": [],
   "source": []
  }
 ],
 "metadata": {
  "file_extension": ".py",
  "kernelspec": {
   "display_name": "Python 3",
   "language": "python",
   "name": "python3"
  },
  "language_info": {
   "codemirror_mode": {
    "name": "ipython",
    "version": 3
   },
   "file_extension": ".py",
   "mimetype": "text/x-python",
   "name": "python",
   "nbconvert_exporter": "python",
   "pygments_lexer": "ipython3",
   "version": "3.7.7"
  },
  "mimetype": "text/x-python",
  "name": "python",
  "npconvert_exporter": "python",
  "pygments_lexer": "ipython3",
  "version": 3
 },
 "nbformat": 4,
 "nbformat_minor": 4
}
