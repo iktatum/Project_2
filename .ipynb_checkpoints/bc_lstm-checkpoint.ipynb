{
 "cells": [
  {
   "cell_type": "code",
   "execution_count": 23,
   "metadata": {},
   "outputs": [],
   "source": [
    "#import libraries\n",
    "from pathlib import Path\n",
    "import pandas as pd\n",
    "import numpy as np\n",
    "from numpy.random import seed\n",
    "seed(1)\n",
    "from tensorflow import random\n",
    "random.set_seed(2)"
   ]
  },
  {
   "cell_type": "code",
   "execution_count": 25,
   "metadata": {},
   "outputs": [
    {
     "data": {
      "text/html": [
       "<div>\n",
       "<style scoped>\n",
       "    .dataframe tbody tr th:only-of-type {\n",
       "        vertical-align: middle;\n",
       "    }\n",
       "\n",
       "    .dataframe tbody tr th {\n",
       "        vertical-align: top;\n",
       "    }\n",
       "\n",
       "    .dataframe thead th {\n",
       "        text-align: right;\n",
       "    }\n",
       "</style>\n",
       "<table border=\"1\" class=\"dataframe\">\n",
       "  <thead>\n",
       "    <tr style=\"text-align: right;\">\n",
       "      <th></th>\n",
       "      <th>Close</th>\n",
       "    </tr>\n",
       "    <tr>\n",
       "      <th>Date</th>\n",
       "      <th></th>\n",
       "    </tr>\n",
       "  </thead>\n",
       "  <tbody>\n",
       "    <tr>\n",
       "      <th>8/10/2020</th>\n",
       "      <td>11878.11133</td>\n",
       "    </tr>\n",
       "    <tr>\n",
       "      <th>8/11/2020</th>\n",
       "      <td>11410.52539</td>\n",
       "    </tr>\n",
       "    <tr>\n",
       "      <th>8/12/2020</th>\n",
       "      <td>11584.93457</td>\n",
       "    </tr>\n",
       "    <tr>\n",
       "      <th>8/13/2020</th>\n",
       "      <td>11784.13770</td>\n",
       "    </tr>\n",
       "    <tr>\n",
       "      <th>8/14/2020</th>\n",
       "      <td>11768.87109</td>\n",
       "    </tr>\n",
       "  </tbody>\n",
       "</table>\n",
       "</div>"
      ],
      "text/plain": [
       "                 Close\n",
       "Date                  \n",
       "8/10/2020  11878.11133\n",
       "8/11/2020  11410.52539\n",
       "8/12/2020  11584.93457\n",
       "8/13/2020  11784.13770\n",
       "8/14/2020  11768.87109"
      ]
     },
     "execution_count": 25,
     "metadata": {},
     "output_type": "execute_result"
    }
   ],
   "source": [
    "#import bitcoin stock data \n",
    "csvpath = Path(\"BTC.csv\", parse_dates = True, infer_datetime_format = True,index_col=\"Date\")\n",
    "df = pd.read_csv(csvpath) \n",
    "df= df.drop(columns=[\"Open\", \"High\",\"Low\",\"Adj Close\",\"Volume\"])\n",
    "df=df.set_index('Date')\n",
    "df=df[['Close']]\n",
    "df.tail()"
   ]
  },
  {
   "cell_type": "markdown",
   "metadata": {},
   "source": [
    "data prep model LSTM RNN"
   ]
  },
  {
   "cell_type": "code",
   "execution_count": 26,
   "metadata": {},
   "outputs": [
    {
     "data": {
      "text/html": [
       "<div>\n",
       "<style scoped>\n",
       "    .dataframe tbody tr th:only-of-type {\n",
       "        vertical-align: middle;\n",
       "    }\n",
       "\n",
       "    .dataframe tbody tr th {\n",
       "        vertical-align: top;\n",
       "    }\n",
       "\n",
       "    .dataframe thead th {\n",
       "        text-align: right;\n",
       "    }\n",
       "</style>\n",
       "<table border=\"1\" class=\"dataframe\">\n",
       "  <thead>\n",
       "    <tr style=\"text-align: right;\">\n",
       "      <th></th>\n",
       "      <th>Close</th>\n",
       "    </tr>\n",
       "  </thead>\n",
       "  <tbody>\n",
       "    <tr>\n",
       "      <th>count</th>\n",
       "      <td>2052.000000</td>\n",
       "    </tr>\n",
       "    <tr>\n",
       "      <th>mean</th>\n",
       "      <td>4494.215271</td>\n",
       "    </tr>\n",
       "    <tr>\n",
       "      <th>std</th>\n",
       "      <td>4079.809254</td>\n",
       "    </tr>\n",
       "    <tr>\n",
       "      <th>min</th>\n",
       "      <td>178.102997</td>\n",
       "    </tr>\n",
       "    <tr>\n",
       "      <th>25%</th>\n",
       "      <td>513.040726</td>\n",
       "    </tr>\n",
       "    <tr>\n",
       "      <th>50%</th>\n",
       "      <td>3844.357300</td>\n",
       "    </tr>\n",
       "    <tr>\n",
       "      <th>75%</th>\n",
       "      <td>7965.797608</td>\n",
       "    </tr>\n",
       "    <tr>\n",
       "      <th>max</th>\n",
       "      <td>19497.400390</td>\n",
       "    </tr>\n",
       "  </tbody>\n",
       "</table>\n",
       "</div>"
      ],
      "text/plain": [
       "              Close\n",
       "count   2052.000000\n",
       "mean    4494.215271\n",
       "std     4079.809254\n",
       "min      178.102997\n",
       "25%      513.040726\n",
       "50%     3844.357300\n",
       "75%     7965.797608\n",
       "max    19497.400390"
      ]
     },
     "execution_count": 26,
     "metadata": {},
     "output_type": "execute_result"
    }
   ],
   "source": [
    "#describe the data\n",
    "df.describe()"
   ]
  },
  {
   "cell_type": "code",
   "execution_count": 27,
   "metadata": {},
   "outputs": [],
   "source": [
    "#function to fill arrays with data\n",
    "def window_data(df, window, feature_col_number, target_col_number):\n",
    "    X = []\n",
    "    y = []\n",
    "    for i in range(len(df) - window -1):\n",
    "        features = df.iloc[i:(i + window), feature_col_number]\n",
    "        target = df.iloc[(i + window), target_col_number]\n",
    "        X.append(features)\n",
    "        y.append(target)\n",
    "    return np.array(X), np.array(y).reshape(-1, 1)"
   ]
  },
  {
   "cell_type": "code",
   "execution_count": 29,
   "metadata": {},
   "outputs": [],
   "source": [
    "#predict closing prices, used a window= 1 most accurate, other options 5&10 day window of close/open prices\n",
    "window_size = 1\n",
    "feature_column = 0\n",
    "target_column = 0\n",
    "X, y = window_data(df, window_size, feature_column, target_column)\n"
   ]
  },
  {
   "cell_type": "code",
   "execution_count": 30,
   "metadata": {},
   "outputs": [],
   "source": [
    "#split data 70%/30% of data for training\n",
    "split = int(.7*len(X))\n",
    "X_train = X[: split ]\n",
    "X_test = X[split:]\n",
    "y_train = y[: split ]\n",
    "y_test = y[split:]"
   ]
  },
  {
   "cell_type": "code",
   "execution_count": 31,
   "metadata": {},
   "outputs": [
    {
     "data": {
      "text/plain": [
       "(1435, 1)"
      ]
     },
     "execution_count": 31,
     "metadata": {},
     "output_type": "execute_result"
    }
   ],
   "source": [
    "X_train.shape"
   ]
  },
  {
   "cell_type": "code",
   "execution_count": 32,
   "metadata": {},
   "outputs": [
    {
     "data": {
      "text/plain": [
       "(616, 1)"
      ]
     },
     "execution_count": 32,
     "metadata": {},
     "output_type": "execute_result"
    }
   ],
   "source": [
    "X_test.shape"
   ]
  },
  {
   "cell_type": "code",
   "execution_count": 33,
   "metadata": {},
   "outputs": [],
   "source": [
    "# Use MinMaxScaler to scale the data between 0 and 1. \n",
    "from sklearn.preprocessing import MinMaxScaler\n",
    "scaler = MinMaxScaler()\n",
    "scaler.fit(X)\n",
    "X_train = scaler.transform(X_train)\n",
    "X_test = scaler.transform(X_test)\n",
    "scaler.fit(y)\n",
    "y_train = scaler.transform(y_train)\n",
    "y_test = scaler.transform(y_test)"
   ]
  },
  {
   "cell_type": "code",
   "execution_count": 34,
   "metadata": {},
   "outputs": [
    {
     "name": "stdout",
     "output_type": "stream",
     "text": [
      "X_train sample [[[0.00704715]]\n",
      "\n",
      " [[0.00708768]]\n",
      "\n",
      " [[0.00533037]]]\n",
      "X_test sample [[[0.00704715]]\n",
      "\n",
      " [[0.00708768]]\n",
      "\n",
      " [[0.00533037]]]\n"
     ]
    }
   ],
   "source": [
    "# Reshape the features for the model\n",
    "X_train = X_train.reshape(X_train.shape[0], X_train.shape[1], 1)\n",
    "X_test = X_test.reshape(X_test.shape[0], X_test.shape[1], 1)\n",
    "print (f\"X_train sample {X_train[:3]}\")\n",
    "print (f\"X_test sample {X_train[:3]}\")"
   ]
  },
  {
   "cell_type": "code",
   "execution_count": 35,
   "metadata": {},
   "outputs": [],
   "source": [
    "#build and train LSTM RNN\n",
    "\n",
    "from tensorflow.keras.models import Sequential\n",
    "from tensorflow.keras.layers import LSTM, Dense, Dropout"
   ]
  },
  {
   "cell_type": "code",
   "execution_count": 36,
   "metadata": {},
   "outputs": [],
   "source": [
    "## Build the LSTM model\n",
    "model = Sequential()\n",
    "number_units = 5\n",
    "dropout_fraction = .2\n",
    "#1\n",
    "model.add(LSTM(units= number_units, return_sequences=True, input_shape=(X_train.shape[1], 1)))\n",
    "model.add(Dropout(dropout_fraction))\n",
    "#2\n",
    "model.add(LSTM(units = number_units, return_sequences= True))\n",
    "model.add(Dropout(dropout_fraction))\n",
    "#3\n",
    "model.add(LSTM(units= number_units))\n",
    "model.add(Dropout(dropout_fraction))\n",
    "#outer\n",
    "model.add(Dense(1))"
   ]
  },
  {
   "cell_type": "code",
   "execution_count": 37,
   "metadata": {},
   "outputs": [],
   "source": [
    "#compile\n",
    "model.compile(optimizer=\"adam\", loss=\"mean_squared_error\")"
   ]
  },
  {
   "cell_type": "code",
   "execution_count": 38,
   "metadata": {},
   "outputs": [
    {
     "name": "stdout",
     "output_type": "stream",
     "text": [
      "Model: \"sequential_1\"\n",
      "_________________________________________________________________\n",
      "Layer (type)                 Output Shape              Param #   \n",
      "=================================================================\n",
      "lstm_3 (LSTM)                (None, 1, 5)              140       \n",
      "_________________________________________________________________\n",
      "dropout_3 (Dropout)          (None, 1, 5)              0         \n",
      "_________________________________________________________________\n",
      "lstm_4 (LSTM)                (None, 1, 5)              220       \n",
      "_________________________________________________________________\n",
      "dropout_4 (Dropout)          (None, 1, 5)              0         \n",
      "_________________________________________________________________\n",
      "lstm_5 (LSTM)                (None, 5)                 220       \n",
      "_________________________________________________________________\n",
      "dropout_5 (Dropout)          (None, 5)                 0         \n",
      "_________________________________________________________________\n",
      "dense_1 (Dense)              (None, 1)                 6         \n",
      "=================================================================\n",
      "Total params: 586\n",
      "Trainable params: 586\n",
      "Non-trainable params: 0\n",
      "_________________________________________________________________\n"
     ]
    }
   ],
   "source": [
    "#summary\n",
    "model.summary()"
   ]
  },
  {
   "cell_type": "code",
   "execution_count": 15,
   "metadata": {},
   "outputs": [
    {
     "name": "stdout",
     "output_type": "stream",
     "text": [
      "Epoch 1/50\n",
      "1435/1435 [==============================] - 3s 2ms/step - loss: 0.0032\n",
      "Epoch 2/50\n",
      "1435/1435 [==============================] - 3s 2ms/step - loss: 0.0065\n",
      "Epoch 3/50\n",
      "1435/1435 [==============================] - 3s 2ms/step - loss: 0.0081\n",
      "Epoch 4/50\n",
      "1435/1435 [==============================] - 3s 2ms/step - loss: 0.0084\n",
      "Epoch 5/50\n",
      "1435/1435 [==============================] - 3s 2ms/step - loss: 0.0083\n",
      "Epoch 6/50\n",
      "1435/1435 [==============================] - 3s 2ms/step - loss: 0.0075\n",
      "Epoch 7/50\n",
      "1435/1435 [==============================] - 3s 2ms/step - loss: 0.0065\n",
      "Epoch 8/50\n",
      "1435/1435 [==============================] - 3s 2ms/step - loss: 0.0055\n",
      "Epoch 9/50\n",
      "1435/1435 [==============================] - 3s 2ms/step - loss: 0.0050\n",
      "Epoch 10/50\n",
      "1435/1435 [==============================] - 3s 2ms/step - loss: 0.0049\n",
      "Epoch 11/50\n",
      "1435/1435 [==============================] - 3s 2ms/step - loss: 0.0045\n",
      "Epoch 12/50\n",
      "1435/1435 [==============================] - 3s 2ms/step - loss: 0.0044\n",
      "Epoch 13/50\n",
      "1435/1435 [==============================] - 3s 2ms/step - loss: 0.0043\n",
      "Epoch 14/50\n",
      "1435/1435 [==============================] - 3s 2ms/step - loss: 0.0040\n",
      "Epoch 15/50\n",
      "1435/1435 [==============================] - 3s 2ms/step - loss: 0.0040\n",
      "Epoch 16/50\n",
      "1435/1435 [==============================] - 3s 2ms/step - loss: 0.0044\n",
      "Epoch 17/50\n",
      "1435/1435 [==============================] - 3s 2ms/step - loss: 0.0046\n",
      "Epoch 18/50\n",
      "1435/1435 [==============================] - 3s 2ms/step - loss: 0.0044\n",
      "Epoch 19/50\n",
      "1435/1435 [==============================] - 3s 2ms/step - loss: 0.0040\n",
      "Epoch 20/50\n",
      "1435/1435 [==============================] - 4s 3ms/step - loss: 0.0041\n",
      "Epoch 21/50\n",
      "1435/1435 [==============================] - 3s 2ms/step - loss: 0.0043\n",
      "Epoch 22/50\n",
      "1435/1435 [==============================] - 3s 2ms/step - loss: 0.0038\n",
      "Epoch 23/50\n",
      "1435/1435 [==============================] - 3s 2ms/step - loss: 0.0039\n",
      "Epoch 24/50\n",
      "1435/1435 [==============================] - 3s 2ms/step - loss: 0.0039\n",
      "Epoch 25/50\n",
      "1435/1435 [==============================] - 3s 2ms/step - loss: 0.0041\n",
      "Epoch 26/50\n",
      "1435/1435 [==============================] - 3s 2ms/step - loss: 0.0042\n",
      "Epoch 27/50\n",
      "1435/1435 [==============================] - 3s 2ms/step - loss: 0.0037\n",
      "Epoch 28/50\n",
      "1435/1435 [==============================] - 3s 2ms/step - loss: 0.0035\n",
      "Epoch 29/50\n",
      "1435/1435 [==============================] - 3s 2ms/step - loss: 0.0034\n",
      "Epoch 30/50\n",
      "1435/1435 [==============================] - 3s 2ms/step - loss: 0.0035\n",
      "Epoch 31/50\n",
      "1435/1435 [==============================] - 3s 2ms/step - loss: 0.0037\n",
      "Epoch 32/50\n",
      "1435/1435 [==============================] - 3s 2ms/step - loss: 0.0040\n",
      "Epoch 33/50\n",
      "1435/1435 [==============================] - 3s 2ms/step - loss: 0.0036\n",
      "Epoch 34/50\n",
      "1435/1435 [==============================] - 3s 2ms/step - loss: 0.0038\n",
      "Epoch 35/50\n",
      "1435/1435 [==============================] - 3s 2ms/step - loss: 0.0036\n",
      "Epoch 36/50\n",
      "1435/1435 [==============================] - 3s 2ms/step - loss: 0.0037\n",
      "Epoch 37/50\n",
      "1435/1435 [==============================] - 4s 3ms/step - loss: 0.0039\n",
      "Epoch 38/50\n",
      "1435/1435 [==============================] - 3s 2ms/step - loss: 0.0037\n",
      "Epoch 39/50\n",
      "1435/1435 [==============================] - 3s 2ms/step - loss: 0.0035\n",
      "Epoch 40/50\n",
      "1435/1435 [==============================] - 3s 2ms/step - loss: 0.0034\n",
      "Epoch 41/50\n",
      "1435/1435 [==============================] - 3s 2ms/step - loss: 0.0034\n",
      "Epoch 42/50\n",
      "1435/1435 [==============================] - 3s 2ms/step - loss: 0.0034\n",
      "Epoch 43/50\n",
      "1435/1435 [==============================] - 4s 2ms/step - loss: 0.0038\n",
      "Epoch 44/50\n",
      "1435/1435 [==============================] - 3s 2ms/step - loss: 0.0037\n",
      "Epoch 45/50\n",
      "1435/1435 [==============================] - 3s 2ms/step - loss: 0.0038\n",
      "Epoch 46/50\n",
      "1435/1435 [==============================] - 3s 2ms/step - loss: 0.0035\n",
      "Epoch 47/50\n",
      "1435/1435 [==============================] - 3s 2ms/step - loss: 0.0033\n",
      "Epoch 48/50\n",
      "1435/1435 [==============================] - 3s 2ms/step - loss: 0.0036\n",
      "Epoch 49/50\n",
      "1435/1435 [==============================] - 3s 2ms/step - loss: 0.0036\n",
      "Epoch 50/50\n",
      "1435/1435 [==============================] - 3s 2ms/step - loss: 0.0035\n"
     ]
    },
    {
     "data": {
      "text/plain": [
       "<tensorflow.python.keras.callbacks.History at 0x1b58e2f02c8>"
      ]
     },
     "execution_count": 15,
     "metadata": {},
     "output_type": "execute_result"
    }
   ],
   "source": [
    "#train the model, epochs= 50, \n",
    "model.fit(X_train, y_train, epochs = 50, shuffle = False, batch_size=1, verbose = 1)"
   ]
  },
  {
   "cell_type": "code",
   "execution_count": 16,
   "metadata": {},
   "outputs": [
    {
     "name": "stdout",
     "output_type": "stream",
     "text": [
      "20/20 [==============================] - 0s 1ms/step - loss: nan\n"
     ]
    },
    {
     "data": {
      "text/plain": [
       "nan"
      ]
     },
     "execution_count": 16,
     "metadata": {},
     "output_type": "execute_result"
    }
   ],
   "source": [
    "#evaluate\n",
    "model.evaluate(X_test, y_test)"
   ]
  },
  {
   "cell_type": "code",
   "execution_count": 17,
   "metadata": {},
   "outputs": [],
   "source": [
    "#predictions\n",
    "predicted = model.predict(X_test)\n"
   ]
  },
  {
   "cell_type": "code",
   "execution_count": 18,
   "metadata": {},
   "outputs": [],
   "source": [
    "# Recover the original prices instead of the scaled version\n",
    "predicted_prices = scaler.inverse_transform(predicted)\n",
    "real_prices = scaler.inverse_transform(y_test.reshape(-1, 1))"
   ]
  },
  {
   "cell_type": "code",
   "execution_count": 19,
   "metadata": {},
   "outputs": [
    {
     "data": {
      "text/html": [
       "<div>\n",
       "<style scoped>\n",
       "    .dataframe tbody tr th:only-of-type {\n",
       "        vertical-align: middle;\n",
       "    }\n",
       "\n",
       "    .dataframe tbody tr th {\n",
       "        vertical-align: top;\n",
       "    }\n",
       "\n",
       "    .dataframe thead th {\n",
       "        text-align: right;\n",
       "    }\n",
       "</style>\n",
       "<table border=\"1\" class=\"dataframe\">\n",
       "  <thead>\n",
       "    <tr style=\"text-align: right;\">\n",
       "      <th></th>\n",
       "      <th>Real</th>\n",
       "      <th>Predicted</th>\n",
       "    </tr>\n",
       "  </thead>\n",
       "  <tbody>\n",
       "    <tr>\n",
       "      <th>0</th>\n",
       "      <td>3419.937256</td>\n",
       "      <td>5137.531250</td>\n",
       "    </tr>\n",
       "    <tr>\n",
       "      <th>1</th>\n",
       "      <td>3476.114746</td>\n",
       "      <td>5126.890625</td>\n",
       "    </tr>\n",
       "    <tr>\n",
       "      <th>2</th>\n",
       "      <td>3614.234375</td>\n",
       "      <td>5132.730957</td>\n",
       "    </tr>\n",
       "    <tr>\n",
       "      <th>3</th>\n",
       "      <td>3502.656006</td>\n",
       "      <td>5147.828613</td>\n",
       "    </tr>\n",
       "    <tr>\n",
       "      <th>4</th>\n",
       "      <td>3424.588135</td>\n",
       "      <td>5135.549316</td>\n",
       "    </tr>\n",
       "  </tbody>\n",
       "</table>\n",
       "</div>"
      ],
      "text/plain": [
       "          Real    Predicted\n",
       "0  3419.937256  5137.531250\n",
       "1  3476.114746  5126.890625\n",
       "2  3614.234375  5132.730957\n",
       "3  3502.656006  5147.828613\n",
       "4  3424.588135  5135.549316"
      ]
     },
     "execution_count": 19,
     "metadata": {},
     "output_type": "execute_result"
    }
   ],
   "source": [
    "# Create a DataFrame of Real and Predicted values\n",
    "stocks = pd.DataFrame({\n",
    "    \"Real\": real_prices.ravel(),\n",
    "    \"Predicted\": predicted_prices.ravel()\n",
    "})\n",
    "stocks.head()"
   ]
  },
  {
   "cell_type": "code",
   "execution_count": 20,
   "metadata": {},
   "outputs": [
    {
     "data": {
      "text/plain": [
       "<matplotlib.axes._subplots.AxesSubplot at 0x1b598199d08>"
      ]
     },
     "execution_count": 20,
     "metadata": {},
     "output_type": "execute_result"
    },
    {
     "data": {
      "image/png": "[encoded data removed]",
      "text/plain": [
       "<Figure size 432x288 with 1 Axes>"
      ]
     },
     "metadata": {
      "needs_background": "light"
     },
     "output_type": "display_data"
    }
   ],
   "source": [
    "# Plot the real vs predicted values as a line chart\n",
    "stocks.plot()"
   ]
  },
  {
   "cell_type": "code",
   "execution_count": 46,
   "metadata": {},
   "outputs": [
    {
     "data": {
      "text/plain": [
       "<matplotlib.axes._subplots.AxesSubplot at 0x13ceafaa388>"
      ]
     },
     "execution_count": 46,
     "metadata": {},
     "output_type": "execute_result"
    },
    {
     "data": {
      "image/png": "[encoded data removed]",
      "text/plain": [
       "<Figure size 432x288 with 1 Axes>"
      ]
     },
     "metadata": {
      "needs_background": "light"
     },
     "output_type": "display_data"
    }
   ],
   "source": [
    "df['Volume'].plot()"
   ]
  },
  {
   "cell_type": "code",
   "execution_count": 47,
   "metadata": {},
   "outputs": [
    {
     "data": {
      "text/plain": [
       "<matplotlib.axes._subplots.AxesSubplot at 0x13cf504f7c8>"
      ]
     },
     "execution_count": 47,
     "metadata": {},
     "output_type": "execute_result"
    },
    {
     "data": {
      "image/png": "[encoded data removed]",
      "text/plain": [
       "<Figure size 432x288 with 1 Axes>"
      ]
     },
     "metadata": {
      "needs_background": "light"
     },
     "output_type": "display_data"
    }
   ],
   "source": [
    " df['Close'].plot()"
   ]
  },
  {
   "cell_type": "code",
   "execution_count": null,
   "metadata": {},
   "outputs": [],
   "source": []
  },
  {
   "cell_type": "code",
   "execution_count": null,
   "metadata": {},
   "outputs": [],
   "source": []
  }
 ],
 "metadata": {
  "kernelspec": {
   "display_name": "Python 3",
   "language": "python",
   "name": "python3"
  },
  "language_info": {
   "codemirror_mode": {
    "name": "ipython",
    "version": 3
   },
   "file_extension": ".py",
   "mimetype": "text/x-python",
   "name": "python",
   "nbconvert_exporter": "python",
   "pygments_lexer": "ipython3",
   "version": "3.7.7"
  }
 },
 "nbformat": 4,
 "nbformat_minor": 4
}
