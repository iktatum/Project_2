{
 "cells": [
  {
   "cell_type": "code",
   "execution_count": 33,
   "metadata": {},
   "outputs": [],
   "source": [
    "#import libraries\n",
    "from pathlib import Path\n",
    "import pandas as pd\n",
    "import numpy as np\n",
    "from numpy.random import seed\n",
    "seed(1)\n",
    "from tensorflow import random\n",
    "random.set_seed(2)"
   ]
  },
  {
   "cell_type": "code",
   "execution_count": 34,
   "metadata": {},
   "outputs": [
    {
     "data": {
      "text/html": [
       "<div>\n",
       "<style scoped>\n",
       "    .dataframe tbody tr th:only-of-type {\n",
       "        vertical-align: middle;\n",
       "    }\n",
       "\n",
       "    .dataframe tbody tr th {\n",
       "        vertical-align: top;\n",
       "    }\n",
       "\n",
       "    .dataframe thead th {\n",
       "        text-align: right;\n",
       "    }\n",
       "</style>\n",
       "<table border=\"1\" class=\"dataframe\">\n",
       "  <thead>\n",
       "    <tr style=\"text-align: right;\">\n",
       "      <th></th>\n",
       "      <th>BTC</th>\n",
       "      <th>BTC_VOL</th>\n",
       "      <th>SP_500</th>\n",
       "    </tr>\n",
       "    <tr>\n",
       "      <th>Date</th>\n",
       "      <th></th>\n",
       "      <th></th>\n",
       "      <th></th>\n",
       "    </tr>\n",
       "  </thead>\n",
       "  <tbody>\n",
       "    <tr>\n",
       "      <th>2018-02-01</th>\n",
       "      <td>9171.0</td>\n",
       "      <td>9.959400e+09</td>\n",
       "      <td>2822.0</td>\n",
       "    </tr>\n",
       "    <tr>\n",
       "      <th>2018-02-02</th>\n",
       "      <td>8831.0</td>\n",
       "      <td>1.272690e+10</td>\n",
       "      <td>2762.0</td>\n",
       "    </tr>\n",
       "    <tr>\n",
       "      <th>2018-02-03</th>\n",
       "      <td>9175.0</td>\n",
       "      <td>7.263790e+09</td>\n",
       "      <td>2649.0</td>\n",
       "    </tr>\n",
       "    <tr>\n",
       "      <th>2018-02-04</th>\n",
       "      <td>8277.0</td>\n",
       "      <td>7.073550e+09</td>\n",
       "      <td>2695.0</td>\n",
       "    </tr>\n",
       "    <tr>\n",
       "      <th>2018-02-05</th>\n",
       "      <td>6955.0</td>\n",
       "      <td>9.285290e+09</td>\n",
       "      <td>2682.0</td>\n",
       "    </tr>\n",
       "  </tbody>\n",
       "</table>\n",
       "</div>"
      ],
      "text/plain": [
       "               BTC       BTC_VOL  SP_500\n",
       "Date                                    \n",
       "2018-02-01  9171.0  9.959400e+09  2822.0\n",
       "2018-02-02  8831.0  1.272690e+10  2762.0\n",
       "2018-02-03  9175.0  7.263790e+09  2649.0\n",
       "2018-02-04  8277.0  7.073550e+09  2695.0\n",
       "2018-02-05  6955.0  9.285290e+09  2682.0"
      ]
     },
     "execution_count": 34,
     "metadata": {},
     "output_type": "execute_result"
    }
   ],
   "source": [
    "#import bitcoin stock data\n",
    "csvpath = Path(\"BTC_USD.csv\", parse_dates = True, infer_datetime_format = True ,index_col=\"Date\")\n",
    "df_btc = pd.read_csv(csvpath) \n",
    "df_btc.set_index(pd.to_datetime(df_btc['Date'], infer_datetime_format=True), inplace = True)\n",
    "df_btc['Date'] = pd.to_datetime(df_btc['Date'])\n",
    "df_btc=df_btc.loc['02-01-2018':'08-14-2020']\n",
    "df_btc.drop(columns=['Date'], inplace = True)\n",
    "df_btc.head()"
   ]
  },
  {
   "cell_type": "code",
   "execution_count": 35,
   "metadata": {},
   "outputs": [
    {
     "data": {
      "text/html": [
       "<div>\n",
       "<style scoped>\n",
       "    .dataframe tbody tr th:only-of-type {\n",
       "        vertical-align: middle;\n",
       "    }\n",
       "\n",
       "    .dataframe tbody tr th {\n",
       "        vertical-align: top;\n",
       "    }\n",
       "\n",
       "    .dataframe thead th {\n",
       "        text-align: right;\n",
       "    }\n",
       "</style>\n",
       "<table border=\"1\" class=\"dataframe\">\n",
       "  <thead>\n",
       "    <tr style=\"text-align: right;\">\n",
       "      <th></th>\n",
       "      <th>fng_value</th>\n",
       "    </tr>\n",
       "    <tr>\n",
       "      <th>Date</th>\n",
       "      <th></th>\n",
       "    </tr>\n",
       "  </thead>\n",
       "  <tbody>\n",
       "    <tr>\n",
       "      <th>2018-02-05</th>\n",
       "      <td>11</td>\n",
       "    </tr>\n",
       "    <tr>\n",
       "      <th>2018-02-04</th>\n",
       "      <td>24</td>\n",
       "    </tr>\n",
       "    <tr>\n",
       "      <th>2018-02-03</th>\n",
       "      <td>40</td>\n",
       "    </tr>\n",
       "    <tr>\n",
       "      <th>2018-02-02</th>\n",
       "      <td>15</td>\n",
       "    </tr>\n",
       "    <tr>\n",
       "      <th>2018-02-01</th>\n",
       "      <td>30</td>\n",
       "    </tr>\n",
       "  </tbody>\n",
       "</table>\n",
       "</div>"
      ],
      "text/plain": [
       "            fng_value\n",
       "Date                 \n",
       "2018-02-05         11\n",
       "2018-02-04         24\n",
       "2018-02-03         40\n",
       "2018-02-02         15\n",
       "2018-02-01         30"
      ]
     },
     "execution_count": 35,
     "metadata": {},
     "output_type": "execute_result"
    }
   ],
   "source": [
    "#import fng data;  by date\n",
    "csvpath = Path(\"fng.csv\", parse_dates= True, infer_datetime_format = True) #, index_col=\"date\")\n",
    "df_fng = pd.read_csv(csvpath)\n",
    "df_fng['Date'] = pd.to_datetime(df_fng['date'])\n",
    "df_fng = df_fng.drop(columns=[\"fng_classification\",\"date\"])\n",
    "df_fng=df_fng.set_index('Date')\n",
    "df_fng.sort_index()\n",
    "df_fng.tail()"
   ]
  },
  {
   "cell_type": "code",
   "execution_count": 36,
   "metadata": {},
   "outputs": [
    {
     "data": {
      "text/html": [
       "<div>\n",
       "<style scoped>\n",
       "    .dataframe tbody tr th:only-of-type {\n",
       "        vertical-align: middle;\n",
       "    }\n",
       "\n",
       "    .dataframe tbody tr th {\n",
       "        vertical-align: top;\n",
       "    }\n",
       "\n",
       "    .dataframe thead th {\n",
       "        text-align: right;\n",
       "    }\n",
       "</style>\n",
       "<table border=\"1\" class=\"dataframe\">\n",
       "  <thead>\n",
       "    <tr style=\"text-align: right;\">\n",
       "      <th></th>\n",
       "      <th>BTC</th>\n",
       "      <th>BTC_VOL</th>\n",
       "      <th>SP_500</th>\n",
       "      <th>fng_value</th>\n",
       "    </tr>\n",
       "    <tr>\n",
       "      <th>Date</th>\n",
       "      <th></th>\n",
       "      <th></th>\n",
       "      <th></th>\n",
       "      <th></th>\n",
       "    </tr>\n",
       "  </thead>\n",
       "  <tbody>\n",
       "    <tr>\n",
       "      <th>2018-02-01</th>\n",
       "      <td>9171.0</td>\n",
       "      <td>9.959400e+09</td>\n",
       "      <td>2822.0</td>\n",
       "      <td>30</td>\n",
       "    </tr>\n",
       "    <tr>\n",
       "      <th>2018-02-02</th>\n",
       "      <td>8831.0</td>\n",
       "      <td>1.272690e+10</td>\n",
       "      <td>2762.0</td>\n",
       "      <td>15</td>\n",
       "    </tr>\n",
       "    <tr>\n",
       "      <th>2018-02-03</th>\n",
       "      <td>9175.0</td>\n",
       "      <td>7.263790e+09</td>\n",
       "      <td>2649.0</td>\n",
       "      <td>40</td>\n",
       "    </tr>\n",
       "    <tr>\n",
       "      <th>2018-02-04</th>\n",
       "      <td>8277.0</td>\n",
       "      <td>7.073550e+09</td>\n",
       "      <td>2695.0</td>\n",
       "      <td>24</td>\n",
       "    </tr>\n",
       "    <tr>\n",
       "      <th>2018-02-05</th>\n",
       "      <td>6955.0</td>\n",
       "      <td>9.285290e+09</td>\n",
       "      <td>2682.0</td>\n",
       "      <td>11</td>\n",
       "    </tr>\n",
       "  </tbody>\n",
       "</table>\n",
       "</div>"
      ],
      "text/plain": [
       "               BTC       BTC_VOL  SP_500  fng_value\n",
       "Date                                               \n",
       "2018-02-01  9171.0  9.959400e+09  2822.0         30\n",
       "2018-02-02  8831.0  1.272690e+10  2762.0         15\n",
       "2018-02-03  9175.0  7.263790e+09  2649.0         40\n",
       "2018-02-04  8277.0  7.073550e+09  2695.0         24\n",
       "2018-02-05  6955.0  9.285290e+09  2682.0         11"
      ]
     },
     "execution_count": 36,
     "metadata": {},
     "output_type": "execute_result"
    }
   ],
   "source": [
    "#combine dataframes\n",
    "#combined = pd.concat([df_fng, df], axis = \"columns\" , join=\"inner\")\n",
    "#df_fng.merge(df)\n",
    "combine=pd.merge(df_btc, df_fng, left_index=True, right_index=True)\n",
    "combine.head()"
   ]
  },
  {
   "cell_type": "code",
   "execution_count": 37,
   "metadata": {},
   "outputs": [
    {
     "data": {
      "text/html": [
       "<div>\n",
       "<style scoped>\n",
       "    .dataframe tbody tr th:only-of-type {\n",
       "        vertical-align: middle;\n",
       "    }\n",
       "\n",
       "    .dataframe tbody tr th {\n",
       "        vertical-align: top;\n",
       "    }\n",
       "\n",
       "    .dataframe thead th {\n",
       "        text-align: right;\n",
       "    }\n",
       "</style>\n",
       "<table border=\"1\" class=\"dataframe\">\n",
       "  <thead>\n",
       "    <tr style=\"text-align: right;\">\n",
       "      <th></th>\n",
       "      <th>BTC</th>\n",
       "      <th>BTC_VOL</th>\n",
       "      <th>SP_500</th>\n",
       "      <th>fng_value</th>\n",
       "    </tr>\n",
       "    <tr>\n",
       "      <th>Date</th>\n",
       "      <th></th>\n",
       "      <th></th>\n",
       "      <th></th>\n",
       "      <th></th>\n",
       "    </tr>\n",
       "  </thead>\n",
       "  <tbody>\n",
       "    <tr>\n",
       "      <th>2020-08-10</th>\n",
       "      <td>11878.0</td>\n",
       "      <td>2.611411e+10</td>\n",
       "      <td>11878.0</td>\n",
       "      <td>78</td>\n",
       "    </tr>\n",
       "    <tr>\n",
       "      <th>2020-08-11</th>\n",
       "      <td>11411.0</td>\n",
       "      <td>2.703978e+10</td>\n",
       "      <td>11411.0</td>\n",
       "      <td>84</td>\n",
       "    </tr>\n",
       "    <tr>\n",
       "      <th>2020-08-12</th>\n",
       "      <td>11585.0</td>\n",
       "      <td>2.506455e+10</td>\n",
       "      <td>11585.0</td>\n",
       "      <td>75</td>\n",
       "    </tr>\n",
       "    <tr>\n",
       "      <th>2020-08-13</th>\n",
       "      <td>11784.0</td>\n",
       "      <td>2.752220e+10</td>\n",
       "      <td>11784.0</td>\n",
       "      <td>75</td>\n",
       "    </tr>\n",
       "    <tr>\n",
       "      <th>2020-08-14</th>\n",
       "      <td>11769.0</td>\n",
       "      <td>2.423796e+10</td>\n",
       "      <td>11769.0</td>\n",
       "      <td>78</td>\n",
       "    </tr>\n",
       "  </tbody>\n",
       "</table>\n",
       "</div>"
      ],
      "text/plain": [
       "                BTC       BTC_VOL   SP_500  fng_value\n",
       "Date                                                 \n",
       "2020-08-10  11878.0  2.611411e+10  11878.0         78\n",
       "2020-08-11  11411.0  2.703978e+10  11411.0         84\n",
       "2020-08-12  11585.0  2.506455e+10  11585.0         75\n",
       "2020-08-13  11784.0  2.752220e+10  11784.0         75\n",
       "2020-08-14  11769.0  2.423796e+10  11769.0         78"
      ]
     },
     "execution_count": 37,
     "metadata": {},
     "output_type": "execute_result"
    }
   ],
   "source": [
    "combine.tail()"
   ]
  },
  {
   "cell_type": "code",
   "execution_count": 38,
   "metadata": {},
   "outputs": [
    {
     "name": "stdout",
     "output_type": "stream",
     "text": [
      "923\n"
     ]
    }
   ],
   "source": [
    "print(len(combine))"
   ]
  },
  {
   "cell_type": "code",
   "execution_count": 39,
   "metadata": {},
   "outputs": [
    {
     "data": {
      "text/plain": [
       "BTC          1\n",
       "BTC_VOL      1\n",
       "SP_500       1\n",
       "fng_value    0\n",
       "dtype: int64"
      ]
     },
     "execution_count": 39,
     "metadata": {},
     "output_type": "execute_result"
    }
   ],
   "source": [
    "#check for missing values\n",
    "combine.isnull().sum()\n",
    "\n"
   ]
  },
  {
   "cell_type": "code",
   "execution_count": 40,
   "metadata": {},
   "outputs": [],
   "source": [
    "#fill missing values with previous value\n",
    "combine=combine.fillna(method='pad')"
   ]
  },
  {
   "cell_type": "code",
   "execution_count": 41,
   "metadata": {},
   "outputs": [],
   "source": [
    "#function to fill arrays with data\n",
    "def window_data(df, window, feature_col_number, target_col_number):\n",
    "    X = []\n",
    "    y = []\n",
    "    for i in range(len(df) - window -1):\n",
    "        features = df.iloc[i:(i + window), feature_col_number]\n",
    "        target = df.iloc[(i + window), target_col_number]\n",
    "        X.append(features)\n",
    "        y.append(target)\n",
    "    return np.array(X), np.array(y).reshape(-1, 1)"
   ]
  },
  {
   "cell_type": "code",
   "execution_count": 42,
   "metadata": {},
   "outputs": [],
   "source": [
    "###function to fill arrays with multiple row data\n",
    "#def window_data(combined, window, target_col_number):\n",
    "#    X = []\n",
    "#    y = []\n",
    "#    for i in range(len(combined) - window -1):\n",
    "#        features = combined.iloc[i:(i + window), :]\n",
    "#        target = combined.iloc[(i + window), target_col_number]\n",
    "#        X.append(features)\n",
    "#        y.append(target)\n",
    "#    return np.array(X), np.array(y).reshape(-1, 1)"
   ]
  },
  {
   "cell_type": "code",
   "execution_count": 43,
   "metadata": {},
   "outputs": [],
   "source": [
    "#predict closing prices used a window=5 for fng values \n",
    "\n",
    "\n",
    "window_size = 5\n",
    "feature_column = 3 #x values\n",
    "target_column = 3 #y values\n",
    "X, y = window_data(combine, window_size, feature_column, target_column)\n",
    "#X = combine.iloc[:,0:3].values\n",
    "#y=combine[\"fng_value\"].values\n",
    "#print(X)\n",
    "### note this did not work multiple errors depending on window size"
   ]
  },
  {
   "cell_type": "code",
   "execution_count": 45,
   "metadata": {},
   "outputs": [],
   "source": [
    "#split data 70%/30% of data for training\n",
    "split = int(.7*len(X))\n",
    "X_train = X[: split -1]\n",
    "X_test = X[split:]\n",
    "y_train = y[: split -1]\n",
    "y_test = y[split:]\n"
   ]
  },
  {
   "cell_type": "code",
   "execution_count": 46,
   "metadata": {},
   "outputs": [
    {
     "data": {
      "text/plain": [
       "(640, 5)"
      ]
     },
     "execution_count": 46,
     "metadata": {},
     "output_type": "execute_result"
    }
   ],
   "source": [
    "#shape is (data, window size)\n",
    "#y_train.shape\n",
    "X_train.shape"
   ]
  },
  {
   "cell_type": "code",
   "execution_count": 47,
   "metadata": {},
   "outputs": [
    {
     "data": {
      "text/plain": [
       "(276, 5)"
      ]
     },
     "execution_count": 47,
     "metadata": {},
     "output_type": "execute_result"
    }
   ],
   "source": [
    "X_test.shape\n",
    "#y_test.shape"
   ]
  },
  {
   "cell_type": "code",
   "execution_count": 48,
   "metadata": {},
   "outputs": [],
   "source": [
    "# Use MinMaxScaler to scale the data between 0 and 1.\n",
    "\n",
    "from sklearn.preprocessing import MinMaxScaler\n",
    "scaler = MinMaxScaler()\n",
    "scaler.fit(X)\n",
    "X_train = scaler.transform(X_train)\n",
    "X_test = scaler.transform(X_test)\n",
    "scaler.fit(y)\n",
    "y_train = scaler.transform(y_train)\n",
    "y_test = scaler.transform(y_test)\n"
   ]
  },
  {
   "cell_type": "code",
   "execution_count": 49,
   "metadata": {},
   "outputs": [
    {
     "name": "stdout",
     "output_type": "stream",
     "text": [
      "X_train sample [[[0.27777778]\n",
      "  [0.11111111]\n",
      "  [0.38888889]\n",
      "  [0.21111111]\n",
      "  [0.06666667]]\n",
      "\n",
      " [[0.11111111]\n",
      "  [0.38888889]\n",
      "  [0.21111111]\n",
      "  [0.06666667]\n",
      "  [0.03333333]]\n",
      "\n",
      " [[0.38888889]\n",
      "  [0.21111111]\n",
      "  [0.06666667]\n",
      "  [0.03333333]\n",
      "  [0.34444444]]]\n",
      "X_test sample [[[0.54444444]\n",
      "  [0.41111111]\n",
      "  [0.36666667]\n",
      "  [0.37777778]\n",
      "  [0.38888889]]\n",
      "\n",
      " [[0.41111111]\n",
      "  [0.36666667]\n",
      "  [0.37777778]\n",
      "  [0.38888889]\n",
      "  [0.37777778]]\n",
      "\n",
      " [[0.36666667]\n",
      "  [0.37777778]\n",
      "  [0.38888889]\n",
      "  [0.37777778]\n",
      "  [0.36666667]]]\n"
     ]
    }
   ],
   "source": [
    "# Reshape the features for the model\n",
    "X_train = X_train.reshape(X_train.shape[0], X_train.shape[1], 1)\n",
    "X_test = X_test.reshape(X_test.shape[0], X_test.shape[1], 1)\n",
    "print (f\"X_train sample {X_train[:3]}\")\n",
    "print (f\"X_test sample {X_test[:3]}\")"
   ]
  },
  {
   "cell_type": "code",
   "execution_count": 50,
   "metadata": {},
   "outputs": [],
   "source": [
    "#build and train LSTM RNN\n",
    "\n",
    "from tensorflow.keras.models import Sequential\n",
    "from tensorflow.keras.layers import LSTM, Dense, Dropout"
   ]
  },
  {
   "cell_type": "code",
   "execution_count": 51,
   "metadata": {},
   "outputs": [],
   "source": [
    "## Build the LSTM model\n",
    "model = Sequential()\n",
    "number_units = 5\n",
    "dropout_fraction = .2\n",
    "#1\n",
    "model.add(LSTM(units= number_units, \n",
    "               return_sequences=True, \n",
    "               input_shape=(X_train.shape[1], 1)))\n",
    "model.add(Dropout(dropout_fraction))\n",
    "#2\n",
    "model.add(LSTM(units = number_units, return_sequences= True))\n",
    "model.add(Dropout(dropout_fraction))\n",
    "#3\n",
    "model.add(LSTM(units= number_units))\n",
    "model.add(Dropout(dropout_fraction))\n",
    "#outer\n",
    "model.add(Dense(1))"
   ]
  },
  {
   "cell_type": "code",
   "execution_count": 52,
   "metadata": {},
   "outputs": [],
   "source": [
    "#compile\n",
    "model.compile(optimizer=\"adam\", loss=\"mean_squared_error\")"
   ]
  },
  {
   "cell_type": "code",
   "execution_count": 53,
   "metadata": {},
   "outputs": [
    {
     "name": "stdout",
     "output_type": "stream",
     "text": [
      "Model: \"sequential_2\"\n",
      "_________________________________________________________________\n",
      "Layer (type)                 Output Shape              Param #   \n",
      "=================================================================\n",
      "lstm_6 (LSTM)                (None, 5, 5)              140       \n",
      "_________________________________________________________________\n",
      "dropout_6 (Dropout)          (None, 5, 5)              0         \n",
      "_________________________________________________________________\n",
      "lstm_7 (LSTM)                (None, 5, 5)              220       \n",
      "_________________________________________________________________\n",
      "dropout_7 (Dropout)          (None, 5, 5)              0         \n",
      "_________________________________________________________________\n",
      "lstm_8 (LSTM)                (None, 5)                 220       \n",
      "_________________________________________________________________\n",
      "dropout_8 (Dropout)          (None, 5)                 0         \n",
      "_________________________________________________________________\n",
      "dense_2 (Dense)              (None, 1)                 6         \n",
      "=================================================================\n",
      "Total params: 586\n",
      "Trainable params: 586\n",
      "Non-trainable params: 0\n",
      "_________________________________________________________________\n"
     ]
    }
   ],
   "source": [
    "model.summary()"
   ]
  },
  {
   "cell_type": "code",
   "execution_count": 54,
   "metadata": {},
   "outputs": [
    {
     "name": "stdout",
     "output_type": "stream",
     "text": [
      "Epoch 1/15\n",
      "640/640 [==============================] - 3s 5ms/step - loss: 0.0391\n",
      "Epoch 2/15\n",
      "640/640 [==============================] - 3s 5ms/step - loss: 0.0278\n",
      "Epoch 3/15\n",
      "640/640 [==============================] - 3s 5ms/step - loss: 0.0231\n",
      "Epoch 4/15\n",
      "640/640 [==============================] - 3s 5ms/step - loss: 0.0203\n",
      "Epoch 5/15\n",
      "640/640 [==============================] - 3s 5ms/step - loss: 0.0202\n",
      "Epoch 6/15\n",
      "640/640 [==============================] - 3s 5ms/step - loss: 0.0190\n",
      "Epoch 7/15\n",
      "640/640 [==============================] - 3s 5ms/step - loss: 0.0187\n",
      "Epoch 8/15\n",
      "640/640 [==============================] - 3s 5ms/step - loss: 0.0168\n",
      "Epoch 9/15\n",
      "640/640 [==============================] - 3s 5ms/step - loss: 0.0166\n",
      "Epoch 10/15\n",
      "640/640 [==============================] - 3s 5ms/step - loss: 0.0172\n",
      "Epoch 11/15\n",
      "640/640 [==============================] - 3s 5ms/step - loss: 0.0163\n",
      "Epoch 12/15\n",
      "640/640 [==============================] - 3s 5ms/step - loss: 0.0153\n",
      "Epoch 13/15\n",
      "640/640 [==============================] - ETA: 0s - loss: 0.014 - 3s 5ms/step - loss: 0.0144\n",
      "Epoch 14/15\n",
      "640/640 [==============================] - 3s 5ms/step - loss: 0.0147\n",
      "Epoch 15/15\n",
      "640/640 [==============================] - 3s 5ms/step - loss: 0.0138\n"
     ]
    },
    {
     "data": {
      "text/plain": [
       "<tensorflow.python.keras.callbacks.History at 0x17201e37fc8>"
      ]
     },
     "execution_count": 54,
     "metadata": {},
     "output_type": "execute_result"
    }
   ],
   "source": [
    "model.fit(X_train, y_train, epochs = 15, shuffle = False, batch_size=1, verbose = 1)"
   ]
  },
  {
   "cell_type": "code",
   "execution_count": 55,
   "metadata": {},
   "outputs": [
    {
     "name": "stdout",
     "output_type": "stream",
     "text": [
      "9/9 [==============================] - 0s 2ms/step - loss: 0.0107\n"
     ]
    },
    {
     "data": {
      "text/plain": [
       "0.010659761726856232"
      ]
     },
     "execution_count": 55,
     "metadata": {},
     "output_type": "execute_result"
    }
   ],
   "source": [
    "#model performance\n",
    "model.evaluate(X_test, y_test)"
   ]
  },
  {
   "cell_type": "code",
   "execution_count": 56,
   "metadata": {},
   "outputs": [],
   "source": [
    "predicted=model.predict(X_test)"
   ]
  },
  {
   "cell_type": "code",
   "execution_count": 57,
   "metadata": {},
   "outputs": [],
   "source": [
    "#recover the original prices\n",
    "predicted_numbers= scaler.inverse_transform(predicted)\n",
    "real_numbers=scaler.inverse_transform(y_test.reshape(-1,1))\n"
   ]
  },
  {
   "cell_type": "code",
   "execution_count": 58,
   "metadata": {},
   "outputs": [
    {
     "data": {
      "text/html": [
       "<div>\n",
       "<style scoped>\n",
       "    .dataframe tbody tr th:only-of-type {\n",
       "        vertical-align: middle;\n",
       "    }\n",
       "\n",
       "    .dataframe tbody tr th {\n",
       "        vertical-align: top;\n",
       "    }\n",
       "\n",
       "    .dataframe thead th {\n",
       "        text-align: right;\n",
       "    }\n",
       "</style>\n",
       "<table border=\"1\" class=\"dataframe\">\n",
       "  <thead>\n",
       "    <tr style=\"text-align: right;\">\n",
       "      <th></th>\n",
       "      <th>Real</th>\n",
       "      <th>Predicted</th>\n",
       "    </tr>\n",
       "  </thead>\n",
       "  <tbody>\n",
       "    <tr>\n",
       "      <th>0</th>\n",
       "      <td>39.0</td>\n",
       "      <td>40.030796</td>\n",
       "    </tr>\n",
       "    <tr>\n",
       "      <th>1</th>\n",
       "      <td>38.0</td>\n",
       "      <td>40.308891</td>\n",
       "    </tr>\n",
       "    <tr>\n",
       "      <th>2</th>\n",
       "      <td>41.0</td>\n",
       "      <td>40.224335</td>\n",
       "    </tr>\n",
       "    <tr>\n",
       "      <th>3</th>\n",
       "      <td>38.0</td>\n",
       "      <td>40.388084</td>\n",
       "    </tr>\n",
       "    <tr>\n",
       "      <th>4</th>\n",
       "      <td>41.0</td>\n",
       "      <td>40.301380</td>\n",
       "    </tr>\n",
       "  </tbody>\n",
       "</table>\n",
       "</div>"
      ],
      "text/plain": [
       "   Real  Predicted\n",
       "0  39.0  40.030796\n",
       "1  38.0  40.308891\n",
       "2  41.0  40.224335\n",
       "3  38.0  40.388084\n",
       "4  41.0  40.301380"
      ]
     },
     "execution_count": 58,
     "metadata": {},
     "output_type": "execute_result"
    }
   ],
   "source": [
    "#create a DataFrame of real and predicted values\n",
    "bt_fng =pd.DataFrame({\"Real\":real_numbers.ravel(), \"Predicted\":predicted_numbers.ravel()})\n",
    "bt_fng.head()"
   ]
  },
  {
   "cell_type": "code",
   "execution_count": 59,
   "metadata": {},
   "outputs": [
    {
     "data": {
      "text/plain": [
       "<matplotlib.axes._subplots.AxesSubplot at 0x1727c5525c8>"
      ]
     },
     "execution_count": 59,
     "metadata": {},
     "output_type": "execute_result"
    },
    {
     "data": {
      "image/png": "[encoded data removed]",
      "text/plain": [
       "<Figure size 432x288 with 1 Axes>"
      ]
     },
     "metadata": {
      "needs_background": "light"
     },
     "output_type": "display_data"
    }
   ],
   "source": [
    "bt_fng.plot()"
   ]
  },
  {
   "cell_type": "code",
   "execution_count": null,
   "metadata": {},
   "outputs": [],
   "source": []
  }
 ],
 "metadata": {
  "kernelspec": {
   "display_name": "Python 3",
   "language": "python",
   "name": "python3"
  },
  "language_info": {
   "codemirror_mode": {
    "name": "ipython",
    "version": 3
   },
   "file_extension": ".py",
   "mimetype": "text/x-python",
   "name": "python",
   "nbconvert_exporter": "python",
   "pygments_lexer": "ipython3",
   "version": "3.7.7"
  }
 },
 "nbformat": 4,
 "nbformat_minor": 4
}
